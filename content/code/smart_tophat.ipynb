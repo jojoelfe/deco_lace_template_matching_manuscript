{
 "cells": [
  {
   "cell_type": "code",
   "execution_count": 7,
   "metadata": {},
   "outputs": [],
   "source": [
    "from skimage.io import imread, imsave\n",
    "import matplotlib.pyplot as plt\n",
    "import numpy as np\n",
    "import glob\n",
    "from scipy.ndimage import grey_opening"
   ]
  },
  {
   "cell_type": "code",
   "execution_count": 4,
   "metadata": {},
   "outputs": [],
   "source": [
    "import scipy.ndimage as nd\n",
    "\n",
    "def fill(data, invalid=None):\n",
    "    \"\"\"\n",
    "    Replace the value of invalid 'data' cells (indicated by 'invalid') \n",
    "    by the value of the nearest valid data cell\n",
    "\n",
    "    Input:\n",
    "        data:    numpy array of any dimension\n",
    "        invalid: a binary array of same shape as 'data'. True cells set where data\n",
    "                 value should be replaced.\n",
    "                 If None (default), use: invalid  = np.isnan(data)\n",
    "\n",
    "    Output: \n",
    "        Return a filled array. \n",
    "    \"\"\"\n",
    "    #import numpy as np\n",
    "    #import scipy.ndimage as nd\n",
    "\n",
    "    if invalid is None: invalid = np.isnan(data)\n",
    "\n",
    "    ind = nd.distance_transform_edt(invalid, return_distances=False, return_indices=True)\n",
    "    return data[tuple(ind)]\n"
   ]
  },
  {
   "cell_type": "code",
   "execution_count": 8,
   "metadata": {},
   "outputs": [],
   "source": [
    "images = glob.glob(\"/scratch/bern/elferich/deco_lace_manuscript_processing/views/???_lamella[1234].tif\")\n",
    "for image_fn in images:\n",
    "    image = imread(image_fn)\n",
    "    bright_mask = image > 28\n",
    "    dark_mask = image < 0.2\n",
    "    #plt.imshow(bright_mask,cmap='gray')\n",
    "    #plt.title(image_fn[-15:])\n",
    "    #plt.show()\n",
    "    #plt.imshow(dark_mask,cmap='gray')\n",
    "    #plt.title(image_fn[-15:])\n",
    "    #plt.show()\n",
    "    mask = np.invert(bright_mask | dark_mask)\n",
    "    masked_image = fill(image,np.invert(mask))\n",
    "    #plt.imshow(masked_image,cmap='gray')\n",
    "    #plt.title(image_fn[-15:])\n",
    "    #plt.show()\n",
    "    opened_image = grey_opening(masked_image, size=50)\n",
    "    imsave(f'/scratch/bern/elferich/deco_lace_manuscript_processing/views/{image_fn[-16:-4]}_tophat.tif',image-nd.gaussian_filter(opened_image,20)+10)\n",
    "    imsave(f'/scratch/bern/elferich/deco_lace_manuscript_processing/views/{image_fn[-16:-4]}_opened.tif',nd.gaussian_filter(opened_image,20))"
   ]
  },
  {
   "cell_type": "code",
   "execution_count": 57,
   "metadata": {},
   "outputs": [],
   "source": []
  },
  {
   "cell_type": "code",
   "execution_count": 85,
   "metadata": {},
   "outputs": [],
   "source": []
  },
  {
   "cell_type": "code",
   "execution_count": 91,
   "metadata": {},
   "outputs": [],
   "source": []
  },
  {
   "cell_type": "code",
   "execution_count": 92,
   "metadata": {},
   "outputs": [],
   "source": []
  },
  {
   "cell_type": "code",
   "execution_count": null,
   "metadata": {},
   "outputs": [],
   "source": []
  }
 ],
 "metadata": {
  "interpreter": {
   "hash": "f3aebd42603b640c03ed09904f3145c4a1ab344c374cbaeb8d608dcac8af3fb8"
  },
  "kernelspec": {
   "display_name": "Python 3.10.0 ('manubot')",
   "language": "python",
   "name": "python3"
  },
  "language_info": {
   "codemirror_mode": {
    "name": "ipython",
    "version": 3
   },
   "file_extension": ".py",
   "mimetype": "text/x-python",
   "name": "python",
   "nbconvert_exporter": "python",
   "pygments_lexer": "ipython3",
   "version": "3.10.2"
  },
  "orig_nbformat": 4
 },
 "nbformat": 4,
 "nbformat_minor": 2
}
